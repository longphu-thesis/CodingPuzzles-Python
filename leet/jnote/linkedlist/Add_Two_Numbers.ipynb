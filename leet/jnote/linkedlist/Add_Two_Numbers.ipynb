{
 "cells": [
  {
   "cell_type": "markdown",
   "metadata": {},
   "source": [
    "# Add Two Numbers\n",
    "\n",
    "## Problem\n",
    "\n",
    "http://www.lintcode.com/en/problem/add-two-numbers/\n",
    "\n",
    "You have two numbers represented by a linked list, where each node contains a single digit. The digits are stored in *reverse* order, such that the 1's digit is at the head of the list. Write a function that adds the two numbers and returns the sum as a linked list."
   ]
  },
  {
   "cell_type": "code",
   "execution_count": 11,
   "metadata": {},
   "outputs": [
    {
     "name": "stdout",
     "output_type": "stream",
     "text": [
      "9\n",
      "7\n",
      "5\n"
     ]
    }
   ],
   "source": [
    "class Node:\n",
    "    def __init__(self, value=None, next=None):\n",
    "        self._value = value\n",
    "        self._next = next\n",
    "\n",
    "    @property\n",
    "    def value(self):\n",
    "        return self._value\n",
    "    \n",
    "    @property\n",
    "    def next(self):\n",
    "        return self._next\n",
    "    \n",
    "    @next.setter\n",
    "    def next(self, next=None):\n",
    "        self._next = next\n",
    "\n",
    "# 123 + 456 = 579\n",
    "# result: 9->7->5\n",
    "\n",
    "a0 = Node(3)\n",
    "a1 = Node(2)\n",
    "a2 = Node(1)\n",
    "a0.next = a1\n",
    "a1.next = a2\n",
    "\n",
    "b0 = Node(6)\n",
    "b1 = Node(5)\n",
    "b2 = Node(4)\n",
    "b0.next = b1\n",
    "b1.next = b2\n",
    "\n",
    "def add_two_numbers(l0, l1):\n",
    "    if l0 == None: return l1\n",
    "    if l1 == None: return l0\n",
    "    carry = 0\n",
    "    dummy = Node(0)\n",
    "    p = dummy\n",
    "    \n",
    "    while l0 and l1:\n",
    "        p.next = Node((l0.value + l1.value + carry) % 10)\n",
    "        carry = (l0.value + l1.value + carry) // 10\n",
    "        l0 = l0.next\n",
    "        l1 = l1.next\n",
    "        p = p.next\n",
    "    if l0:\n",
    "        while l0:\n",
    "            p.next = Node((l0.value + carry) % 10)\n",
    "            carry = (l0.value + carry) // 10\n",
    "            l0 = l0.next\n",
    "            p = p.next\n",
    "    if l1:\n",
    "        while l1:\n",
    "            p.next = Node((l1.value + carry) % 10)\n",
    "            carry = (l1.value + carry) // 10\n",
    "            l1 = l1.next\n",
    "            p = p.next\n",
    "    if carry == 1:\n",
    "        p.next = Node(1)\n",
    "    return dummy.next\n",
    "\n",
    "result = Node(0)\n",
    "result = add_two_numbers(a0, b0)\n",
    "while (result):\n",
    "    print(result.value)\n",
    "    result = result.next\n"
   ]
  },
  {
   "cell_type": "code",
   "execution_count": null,
   "metadata": {},
   "outputs": [],
   "source": []
  }
 ],
 "metadata": {
  "kernelspec": {
   "display_name": "Python 3",
   "language": "python",
   "name": "python3"
  },
  "language_info": {
   "codemirror_mode": {
    "name": "ipython",
    "version": 3
   },
   "file_extension": ".py",
   "mimetype": "text/x-python",
   "name": "python",
   "nbconvert_exporter": "python",
   "pygments_lexer": "ipython3",
   "version": "3.5.2"
  }
 },
 "nbformat": 4,
 "nbformat_minor": 2
}
