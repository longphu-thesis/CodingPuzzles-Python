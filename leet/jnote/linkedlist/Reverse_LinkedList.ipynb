{
 "cells": [
  {
   "cell_type": "markdown",
   "metadata": {},
   "source": [
    "# Reverse a linked list\n",
    "\n",
    "Problem: http://www.lintcode.com/en/problem/reverse-linked-list/\n",
    "\n",
    "Reverse a linked list."
   ]
  },
  {
   "cell_type": "code",
   "execution_count": 1,
   "metadata": {},
   "outputs": [
    {
     "name": "stdout",
     "output_type": "stream",
     "text": [
      "5\n",
      "6\n",
      "7\n",
      "8\n"
     ]
    }
   ],
   "source": [
    "class Node:\n",
    "    def __init__(self, value=None, next=None):\n",
    "        self._value = value\n",
    "        self._next = next\n",
    "\n",
    "    @property\n",
    "    def value(self):\n",
    "        return self._value\n",
    "    \n",
    "    @property\n",
    "    def next(self):\n",
    "        return self._next\n",
    "    \n",
    "    @next.setter\n",
    "    def next(self, next=None):\n",
    "        self._next = next\n",
    "\n",
    "# 8765 -> 5678\n",
    "\n",
    "a0 = Node(8)\n",
    "a1 = Node(7)\n",
    "a2 = Node(6)\n",
    "a3 = Node(5)\n",
    "a0.next = a1\n",
    "a1.next = a2\n",
    "a2.next = a3\n",
    "\n",
    "def reverse_linkedlist(l0):\n",
    "    if l0 is None or l0.next is None:\n",
    "        return l0\n",
    "    \n",
    "    head = l0\n",
    "    newhead = None\n",
    "    nextnode=None\n",
    "    while head:\n",
    "        nextnode = head.next\n",
    "        head.next = newhead\n",
    "        newhead = head\n",
    "        head = nextnode\n",
    "    \n",
    "    return newhead\n",
    "\n",
    "r0 = reverse_linkedlist(a0)\n",
    "while (r0):\n",
    "    print(r0.value)\n",
    "    r0 = r0.next\n"
   ]
  },
  {
   "cell_type": "markdown",
   "metadata": {},
   "source": [
    "# Reverse LinkedList II\n",
    "\n",
    "Problem: http://www.lintcode.com/en/problem/reverse-linked-list-ii/\n",
    "\n",
    "Reverse a linked list from position m to n.\n",
    "\n",
    "Given m, n satisfy the following condition: 1 ≤ m ≤ n ≤ length of list."
   ]
  },
  {
   "cell_type": "code",
   "execution_count": 10,
   "metadata": {},
   "outputs": [
    {
     "name": "stdout",
     "output_type": "stream",
     "text": [
      "3\n",
      "4\n",
      "5\n",
      "6\n",
      "7\n",
      "8\n",
      "2\n",
      "1\n"
     ]
    }
   ],
   "source": [
    "class Node:\n",
    "    def __init__(self, value=None, next=None):\n",
    "        self._value = value\n",
    "        self._next = next\n",
    "\n",
    "    @property\n",
    "    def value(self):\n",
    "        return self._value\n",
    "    \n",
    "    @property\n",
    "    def next(self):\n",
    "        return self._next\n",
    "    \n",
    "    @next.setter\n",
    "    def next(self, next=None):\n",
    "        self._next = next\n",
    "\n",
    "# 87654321, m=3, n=6 -> 87345621\n",
    "\n",
    "a0 = Node(8)\n",
    "a1 = Node(7)\n",
    "a2 = Node(6)\n",
    "a3 = Node(5)\n",
    "a4 = Node(4)\n",
    "a5 = Node(3)\n",
    "a6 = Node(2)\n",
    "a7 = Node(1)\n",
    "a0.next = a1\n",
    "a1.next = a2\n",
    "a2.next = a3\n",
    "a3.next = a4\n",
    "a4.next = a5\n",
    "a5.next = a6\n",
    "a6.next = a7\n",
    "\n",
    "def reverseBetween(head, m, n):\n",
    "    if head is None or m == n:\n",
    "        return head\n",
    "    \n",
    "    first = head\n",
    "    c = 0\n",
    "    prev = None\n",
    "    while (head and c < m-1):\n",
    "    #for c in range(m):\n",
    "        prev = head\n",
    "        head = head.next\n",
    "        c += 1\n",
    "    new_head = prev\n",
    "    new_tail = head\n",
    "    while (head and c <= n-1):\n",
    "        next_node = head.next\n",
    "        head.next = new_head\n",
    "        new_head = head\n",
    "        head = next_node\n",
    "        c += 1\n",
    "    new_tail.next = next_node\n",
    "    \n",
    "    if not prev is None:\n",
    "        prev.next = new_head\n",
    "    else:\n",
    "        first = new_head\n",
    "    return first\n",
    "\n",
    "n = reverseBetween(a0, 1, 6)\n",
    "while (n):\n",
    "    print(n.value)\n",
    "    n = n.next"
   ]
  },
  {
   "cell_type": "code",
   "execution_count": null,
   "metadata": {},
   "outputs": [],
   "source": []
  }
 ],
 "metadata": {
  "kernelspec": {
   "display_name": "Python 3",
   "language": "python",
   "name": "python3"
  },
  "language_info": {
   "codemirror_mode": {
    "name": "ipython",
    "version": 3
   },
   "file_extension": ".py",
   "mimetype": "text/x-python",
   "name": "python",
   "nbconvert_exporter": "python",
   "pygments_lexer": "ipython3",
   "version": "3.5.2"
  }
 },
 "nbformat": 4,
 "nbformat_minor": 2
}
