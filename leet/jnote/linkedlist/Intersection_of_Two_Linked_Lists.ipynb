{
 "cells": [
  {
   "cell_type": "markdown",
   "metadata": {},
   "source": [
    "# Intersection of two linked lists\n",
    "\n",
    "Write a program to find the node at which the intersection of two singly linked lists begins."
   ]
  },
  {
   "cell_type": "code",
   "execution_count": 4,
   "metadata": {},
   "outputs": [
    {
     "name": "stdout",
     "output_type": "stream",
     "text": [
      "3\n",
      "4\n",
      "1\n"
     ]
    }
   ],
   "source": [
    "class Node:\n",
    "    def __init__(self, value=None, next=None):\n",
    "        self._value = value\n",
    "        self._next = next\n",
    "\n",
    "    @property\n",
    "    def value(self):\n",
    "        return self._value\n",
    "    \n",
    "    @property\n",
    "    def next(self):\n",
    "        return self._next\n",
    "    \n",
    "    @next.setter\n",
    "    def next(self, next=None):\n",
    "        self._next = next\n",
    "\n",
    "        \n",
    "a0 = Node(3)\n",
    "a1 = Node(2)\n",
    "a2 = Node(1)\n",
    "a3 = Node(0)\n",
    "a0.next = a1\n",
    "a1.next = a2\n",
    "a3.next = a2\n",
    "\n",
    "b0 = Node(6)\n",
    "b1 = Node(5)\n",
    "b2 = Node(4)\n",
    "b0.next = b1\n",
    "b1.next = b2\n",
    "b2.next = a2\n",
    "\n",
    "def get_list_length(head):\n",
    "    if head is None:\n",
    "        return 0\n",
    "    \n",
    "    n = 0\n",
    "    while(head):\n",
    "        head = head.next\n",
    "        n += 1\n",
    "    \n",
    "    return n\n",
    "\n",
    "def move_forward_list(head, long_len, short_len):\n",
    "    move_len = long_len - short_len\n",
    "    while (head and move_len > 0):\n",
    "        head = head.next\n",
    "        move_len -= 1\n",
    "    return head\n",
    "\n",
    "def getIntersectionNode(l0, l1):\n",
    "    if l0 is None or l1 is None:\n",
    "        return None\n",
    "    \n",
    "    l0_len = get_list_length(l0)\n",
    "    l1_len = get_list_length(l1)\n",
    "    #print(l0_len)\n",
    "    #print(l1_len)\n",
    "    \n",
    "    if l0_len > l1_len:\n",
    "        head0 = move_forward_list(l0, l0_len, l1_len)\n",
    "        head1 = l1\n",
    "    elif l0_len < l1_len:\n",
    "        head0 = l0\n",
    "        head1 = move_forward_list(l1, l1_len, l0_len)\n",
    "    else:\n",
    "        head0 = l0\n",
    "        head1 = l1\n",
    "    \n",
    "    result = None\n",
    "    while(head0 and head1):\n",
    "        if head0 == head1:\n",
    "            result = head0\n",
    "            break\n",
    "        head0 = head0.next\n",
    "        head1 = head1.next\n",
    "\n",
    "    return result\n",
    "\n",
    "a = getIntersectionNode(a0, b0)\n",
    "print(a.value)"
   ]
  },
  {
   "cell_type": "code",
   "execution_count": null,
   "metadata": {},
   "outputs": [],
   "source": []
  }
 ],
 "metadata": {
  "kernelspec": {
   "display_name": "Python 3",
   "language": "python",
   "name": "python3"
  },
  "language_info": {
   "codemirror_mode": {
    "name": "ipython",
    "version": 3
   },
   "file_extension": ".py",
   "mimetype": "text/x-python",
   "name": "python",
   "nbconvert_exporter": "python",
   "pygments_lexer": "ipython3",
   "version": "3.5.2"
  }
 },
 "nbformat": 4,
 "nbformat_minor": 2
}
